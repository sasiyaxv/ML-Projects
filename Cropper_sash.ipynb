{
  "nbformat": 4,
  "nbformat_minor": 0,
  "metadata": {
    "colab": {
      "name": "Cropper_sash",
      "provenance": [],
      "mount_file_id": "13fdgQZxpqZTKapgk4dG1n3JKnFBlRjx-",
      "authorship_tag": "ABX9TyMuML7t1WVJ5K1CbxquCafT",
      "include_colab_link": true
    },
    "kernelspec": {
      "name": "python3",
      "display_name": "Python 3"
    }
  },
  "cells": [
    {
      "cell_type": "markdown",
      "metadata": {
        "id": "view-in-github",
        "colab_type": "text"
      },
      "source": [
        "<a href=\"https://colab.research.google.com/github/sasiyaxv/ML-Projects/blob/main/Cropper_sash.ipynb\" target=\"_parent\"><img src=\"https://colab.research.google.com/assets/colab-badge.svg\" alt=\"Open In Colab\"/></a>"
      ]
    },
    {
      "cell_type": "code",
      "metadata": {
        "id": "zra_9siZA67l"
      },
      "source": [
        "#all import statements\r\n",
        "import tensorflow as tf\r\n",
        "from tensorflow import keras\r\n",
        "import numpy as np\r\n",
        "import matplotlib.pyplot as plt\r\n",
        "from sklearn.model_selection import train_test_split\r\n",
        "import pathlib"
      ],
      "execution_count": null,
      "outputs": []
    },
    {
      "cell_type": "code",
      "metadata": {
        "colab": {
          "base_uri": "https://localhost:8080/"
        },
        "id": "TcAEhDBojqtB",
        "outputId": "52763f04-f418-4ed6-8069-2230cc3efd85"
      },
      "source": [
        "#loading the dataset\r\n",
        "dataset = tf.keras.preprocessing.image_dataset_from_directory(\r\n",
        "    '/content/drive/MyDrive/LEVEL 5/Cropper/DataSet/plantvillage dataset', \r\n",
        "    labels='inferred', \r\n",
        "    label_mode='int',\r\n",
        "    class_names=None, \r\n",
        "    color_mode='rgb', \r\n",
        "    batch_size=32, \r\n",
        "    image_size=(256,256), \r\n",
        "    shuffle=True, \r\n",
        "    seed=None, \r\n",
        "    validation_split=None, \r\n",
        "    subset=None,\r\n",
        "    interpolation='bilinear', \r\n",
        "    follow_links=False\r\n",
        ")"
      ],
      "execution_count": null,
      "outputs": [
        {
          "output_type": "stream",
          "text": [
            "Found 12062 files belonging to 1 classes.\n"
          ],
          "name": "stdout"
        }
      ]
    },
    {
      "cell_type": "code",
      "metadata": {
        "id": "zlHFSUs1A_57"
      },
      "source": [
        ""
      ],
      "execution_count": null,
      "outputs": []
    },
    {
      "cell_type": "code",
      "metadata": {
        "colab": {
          "base_uri": "https://localhost:8080/"
        },
        "id": "BMI0O-ZlpyGh",
        "outputId": "ff199242-20b2-4797-abc4-a4bd2b74185c"
      },
      "source": [
        "val_ds = tf.keras.preprocessing.image_dataset_from_directory(\r\n",
        "  \"/content/drive/MyDrive/LEVEL 5/Cropper/DataSet/plantvillage dataset\",\r\n",
        "  validation_split=0.2,\r\n",
        "  subset=\"validation\",\r\n",
        "  seed=123,\r\n",
        "  image_size=(256, 256),\r\n",
        "  batch_size=32)\r\n"
      ],
      "execution_count": null,
      "outputs": [
        {
          "output_type": "stream",
          "text": [
            "Found 12062 files belonging to 1 classes.\n",
            "Using 2412 files for validation.\n"
          ],
          "name": "stdout"
        }
      ]
    },
    {
      "cell_type": "code",
      "metadata": {
        "colab": {
          "base_uri": "https://localhost:8080/"
        },
        "id": "HuPaGEPJs_nk",
        "outputId": "0a817568-741b-4644-b199-481b313f5d08"
      },
      "source": [
        "print(val_ds.class_names)"
      ],
      "execution_count": null,
      "outputs": [
        {
          "output_type": "stream",
          "text": [
            "['color']\n"
          ],
          "name": "stdout"
        }
      ]
    },
    {
      "cell_type": "code",
      "metadata": {
        "id": "a0mrt5f9tD7U"
      },
      "source": [
        "model = tf.keras.Sequential([\r\n",
        "    tf.keras.layers.Flatten(input_shape=(256, 256)),\r\n",
        "    tf.keras.layers.Dense(128, activation='relu'),\r\n",
        "    tf.keras.layers.Dense(10)\r\n",
        "])"
      ],
      "execution_count": null,
      "outputs": []
    },
    {
      "cell_type": "code",
      "metadata": {
        "id": "M22u3QNUtYBZ"
      },
      "source": [
        "model.compile(optimizer='adam',\r\n",
        "              loss=tf.keras.losses.SparseCategoricalCrossentropy(from_logits=True),\r\n",
        "              metrics=['accuracy'])"
      ],
      "execution_count": null,
      "outputs": []
    }
  ]
}